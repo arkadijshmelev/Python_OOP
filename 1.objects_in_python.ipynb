{
 "cells": [
  {
   "cell_type": "markdown",
   "metadata": {},
   "source": [
    "### Библиотеки"
   ]
  },
  {
   "cell_type": "code",
   "execution_count": 35,
   "metadata": {},
   "outputs": [],
   "source": [
    "import math"
   ]
  },
  {
   "cell_type": "markdown",
   "metadata": {},
   "source": [
    "Создание классов в Python"
   ]
  },
  {
   "cell_type": "code",
   "execution_count": 36,
   "metadata": {},
   "outputs": [],
   "source": [
    "class MyFirstClass:\n",
    "    pass"
   ]
  },
  {
   "cell_type": "code",
   "execution_count": 37,
   "metadata": {},
   "outputs": [
    {
     "name": "stdout",
     "output_type": "stream",
     "text": [
      "<__main__.MyFirstClass object at 0x000002968C19FC80>\n",
      "<__main__.MyFirstClass object at 0x000002968C19F530>\n"
     ]
    }
   ],
   "source": [
    "# Создадим два объекта класса.\n",
    "a = MyFirstClass()\n",
    "b = MyFirstClass()\n",
    "print(a)\n",
    "print(b)"
   ]
  },
  {
   "cell_type": "markdown",
   "metadata": {},
   "source": [
    "Создание атрибутов"
   ]
  },
  {
   "cell_type": "code",
   "execution_count": 38,
   "metadata": {},
   "outputs": [],
   "source": [
    "class Point:\n",
    "    pass"
   ]
  },
  {
   "cell_type": "code",
   "execution_count": 39,
   "metadata": {},
   "outputs": [
    {
     "name": "stdout",
     "output_type": "stream",
     "text": [
      "5 4\n",
      "3 6\n"
     ]
    }
   ],
   "source": [
    "p1 = Point()\n",
    "p2 = Point()\n",
    "\n",
    "p1.x = 5\n",
    "p1.y = 4\n",
    "\n",
    "p2.x = 3\n",
    "p2.y = 6\n",
    "\n",
    "print(p1.x, p1.y)\n",
    "print(p2.x, p2.y)"
   ]
  },
  {
   "cell_type": "markdown",
   "metadata": {},
   "source": [
    "Приведение объекта в действие"
   ]
  },
  {
   "cell_type": "code",
   "execution_count": 40,
   "metadata": {},
   "outputs": [
    {
     "name": "stdout",
     "output_type": "stream",
     "text": [
      "0 0\n"
     ]
    }
   ],
   "source": [
    "class Point:\n",
    "    def reset(self):\n",
    "        self.x = 0\n",
    "        self.y = 0\n",
    "\n",
    "p = Point()\n",
    "p.reset()\n",
    "print(p.x, p.y)"
   ]
  },
  {
   "cell_type": "code",
   "execution_count": 41,
   "metadata": {},
   "outputs": [
    {
     "name": "stdout",
     "output_type": "stream",
     "text": [
      "0 0\n"
     ]
    }
   ],
   "source": [
    "Point.reset(p)\n",
    "print(p.x, p.y)"
   ]
  },
  {
   "cell_type": "markdown",
   "metadata": {},
   "source": [
    "Передача нескольких аргументов"
   ]
  },
  {
   "cell_type": "code",
   "execution_count": 42,
   "metadata": {},
   "outputs": [
    {
     "name": "stdout",
     "output_type": "stream",
     "text": [
      "5.0\n",
      "4.47213595499958\n",
      "0.0\n"
     ]
    }
   ],
   "source": [
    "class Point:\n",
    "    \n",
    "    def move(self, x, y):\n",
    "        self.x = x\n",
    "        self.y = y\n",
    "        \n",
    "    def reset(self):\n",
    "        self.move(0, 0)\n",
    "        \n",
    "    def calculate_distance(self, other_point):\n",
    "        return math.sqrt(\n",
    "            (self.x - other_point.x)**2 +\n",
    "            (self.y - other_point.y)**2)\n",
    "        \n",
    "point1 = Point()\n",
    "point2 = Point()\n",
    "\n",
    "point1.reset()\n",
    "point2.move(5, 0) \n",
    "\n",
    "print(point2.calculate_distance(point1))\n",
    "assert (point2.calculate_distance(point1) == point1.calculate_distance(point2))\n",
    "\n",
    "point1.move(3, 4)\n",
    "print(point1.calculate_distance(point2))\n",
    "print(point1.calculate_distance(point1))"
   ]
  },
  {
   "cell_type": "markdown",
   "metadata": {},
   "source": [
    "Иницианализация объекта"
   ]
  },
  {
   "cell_type": "code",
   "execution_count": 43,
   "metadata": {},
   "outputs": [
    {
     "name": "stdout",
     "output_type": "stream",
     "text": [
      "3 5\n"
     ]
    }
   ],
   "source": [
    "class Point:\n",
    "    \n",
    "    def __init__(self, x, y):\n",
    "        self.move(x, y)\n",
    "        \n",
    "    def move(self, x, y):\n",
    "        self.x = x\n",
    "        self.y = y\n",
    "        \n",
    "    def reset(self):\n",
    "        self.move(0, 0)\n",
    "        \n",
    "point = Point(3, 5)\n",
    "print(point.x, point.y)"
   ]
  },
  {
   "cell_type": "code",
   "execution_count": 46,
   "metadata": {},
   "outputs": [
    {
     "name": "stdout",
     "output_type": "stream",
     "text": [
      "0 0\n"
     ]
    }
   ],
   "source": [
    "class Point:\n",
    "    def __init__(self, x=0, y=0):\n",
    "        self.move(x, y)\n",
    "        \n",
    "    def move(self, x, y):\n",
    "        self.x = x\n",
    "        self.y = y\n",
    "        \n",
    "point = Point()\n",
    "print(point.x, point.y)"
   ]
  },
  {
   "cell_type": "markdown",
   "metadata": {},
   "source": [
    "Классы внутри функции"
   ]
  },
  {
   "cell_type": "code",
   "execution_count": 17,
   "metadata": {},
   "outputs": [
    {
     "name": "stdout",
     "output_type": "stream",
     "text": [
      " input: hello world, how are you today?\n",
      "output: Hello World, How Are You Today?\n"
     ]
    }
   ],
   "source": [
    "def format_string(string, formatter=None):\n",
    "    \n",
    "    class DefaultFormatter:\n",
    "        \n",
    "        def format(self, string):\n",
    "            return str(string).title()\n",
    "        \n",
    "    if not formatter:\n",
    "        formatter = DefaultFormatter()\n",
    "    return formatter.format(string)\n",
    "\n",
    "hello_string = 'hello world, how are you today?'\n",
    "print(' input: ' + hello_string)\n",
    "print('output: ' + format_string(hello_string))"
   ]
  },
  {
   "cell_type": "markdown",
   "metadata": {},
   "source": [
    "Приватность атрибута"
   ]
  },
  {
   "cell_type": "code",
   "execution_count": 21,
   "metadata": {},
   "outputs": [],
   "source": [
    "class SecretString:\n",
    "    '''Совсем не безопасный способ хранения секретной строки.'''\n",
    "    def __init__(self, plain_string, pass_phrase):\n",
    "        self.__plain_string = plain_string\n",
    "        self.__pass_phrase = pass_phrase\n",
    "    def decrypt(self, pass_phrase):\n",
    "        '''Показать строку только в том случае, если пароль правильный.'''\n",
    "        if pass_phrase == self.__pass_phrase:\n",
    "            return self.__plain_string\n",
    "        else:\n",
    "            return ''"
   ]
  },
  {
   "cell_type": "code",
   "execution_count": 22,
   "metadata": {},
   "outputs": [
    {
     "name": "stdout",
     "output_type": "stream",
     "text": [
      "ACME: Top Secret\n"
     ]
    }
   ],
   "source": [
    "secret_string = SecretString('ACME: Top Secret', 'antwerp')\n",
    "print(secret_string.decrypt('antwerp'))"
   ]
  },
  {
   "cell_type": "code",
   "execution_count": null,
   "metadata": {},
   "outputs": [
    {
     "ename": "AttributeError",
     "evalue": "'SecretString' object has no attribute '__plain_text'",
     "output_type": "error",
     "traceback": [
      "\u001b[1;31m---------------------------------------------------------------------------\u001b[0m",
      "\u001b[1;31mAttributeError\u001b[0m                            Traceback (most recent call last)",
      "Cell \u001b[1;32mIn[23], line 1\u001b[0m\n\u001b[1;32m----> 1\u001b[0m \u001b[38;5;28mprint\u001b[39m(\u001b[43msecret_string\u001b[49m\u001b[38;5;241;43m.\u001b[39;49m\u001b[43m__plain_text\u001b[49m)\n",
      "\u001b[1;31mAttributeError\u001b[0m: 'SecretString' object has no attribute '__plain_text'"
     ]
    }
   ],
   "source": [
    "# print(secret_string.__plain_text)"
   ]
  },
  {
   "cell_type": "code",
   "execution_count": 24,
   "metadata": {},
   "outputs": [
    {
     "name": "stdout",
     "output_type": "stream",
     "text": [
      "ACME: Top Secret\n"
     ]
    }
   ],
   "source": [
    "print(secret_string._SecretString__plain_string)"
   ]
  }
 ],
 "metadata": {
  "kernelspec": {
   "display_name": "Python 3",
   "language": "python",
   "name": "python3"
  },
  "language_info": {
   "codemirror_mode": {
    "name": "ipython",
    "version": 3
   },
   "file_extension": ".py",
   "mimetype": "text/x-python",
   "name": "python",
   "nbconvert_exporter": "python",
   "pygments_lexer": "ipython3",
   "version": "3.12.3"
  }
 },
 "nbformat": 4,
 "nbformat_minor": 2
}
